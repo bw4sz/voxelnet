{
 "cells": [
  {
   "cell_type": "markdown",
   "metadata": {},
   "source": [
    "# Towards re-training Voxelnet for new classes"
   ]
  },
  {
   "cell_type": "markdown",
   "metadata": {},
   "source": [
    "The aim of this notebook is to tease apart the pieces of code in the Voxelnet pipeline. The eventual hope is to seperate out the model training and prediction steps into seperate pieces of code that can be used to train similiar pieces of data. "
   ]
  },
  {
   "cell_type": "markdown",
   "metadata": {},
   "source": [
    "# Input Data"
   ]
  },
  {
   "cell_type": "markdown",
   "metadata": {},
   "source": [
    "## Labels\n",
    "\n",
    "Labels designate the class and coordinates of the object. Not yet clear the order of the vertices of a 3d box. Let's look at an example."
   ]
  },
  {
   "cell_type": "code",
   "execution_count": 51,
   "metadata": {
    "collapsed": false
   },
   "outputs": [
    {
     "data": {
      "text/html": [
       "<div>\n",
       "<style scoped>\n",
       "    .dataframe tbody tr th:only-of-type {\n",
       "        vertical-align: middle;\n",
       "    }\n",
       "\n",
       "    .dataframe tbody tr th {\n",
       "        vertical-align: top;\n",
       "    }\n",
       "\n",
       "    .dataframe thead th {\n",
       "        text-align: right;\n",
       "    }\n",
       "</style>\n",
       "<table border=\"1\" class=\"dataframe\">\n",
       "  <thead>\n",
       "    <tr style=\"text-align: right;\">\n",
       "      <th></th>\n",
       "      <th>0</th>\n",
       "      <th>1</th>\n",
       "      <th>2</th>\n",
       "      <th>3</th>\n",
       "      <th>4</th>\n",
       "      <th>5</th>\n",
       "      <th>6</th>\n",
       "      <th>7</th>\n",
       "      <th>8</th>\n",
       "      <th>9</th>\n",
       "      <th>10</th>\n",
       "      <th>11</th>\n",
       "      <th>12</th>\n",
       "      <th>13</th>\n",
       "      <th>14</th>\n",
       "    </tr>\n",
       "  </thead>\n",
       "  <tbody>\n",
       "    <tr>\n",
       "      <th>0</th>\n",
       "      <td>Car</td>\n",
       "      <td>0.0</td>\n",
       "      <td>0</td>\n",
       "      <td>1.55</td>\n",
       "      <td>614.24</td>\n",
       "      <td>181.78</td>\n",
       "      <td>727.31</td>\n",
       "      <td>284.77</td>\n",
       "      <td>1.57</td>\n",
       "      <td>1.73</td>\n",
       "      <td>4.15</td>\n",
       "      <td>1.0</td>\n",
       "      <td>1.75</td>\n",
       "      <td>13.22</td>\n",
       "      <td>1.62</td>\n",
       "    </tr>\n",
       "    <tr>\n",
       "      <th>1</th>\n",
       "      <td>DontCare</td>\n",
       "      <td>-1.0</td>\n",
       "      <td>-1</td>\n",
       "      <td>-10.00</td>\n",
       "      <td>5.00</td>\n",
       "      <td>229.89</td>\n",
       "      <td>214.12</td>\n",
       "      <td>367.61</td>\n",
       "      <td>-1.00</td>\n",
       "      <td>-1.00</td>\n",
       "      <td>-1.00</td>\n",
       "      <td>-1000.0</td>\n",
       "      <td>-1000.00</td>\n",
       "      <td>-1000.00</td>\n",
       "      <td>-10.00</td>\n",
       "    </tr>\n",
       "    <tr>\n",
       "      <th>2</th>\n",
       "      <td>DontCare</td>\n",
       "      <td>-1.0</td>\n",
       "      <td>-1</td>\n",
       "      <td>-10.00</td>\n",
       "      <td>522.25</td>\n",
       "      <td>202.35</td>\n",
       "      <td>547.77</td>\n",
       "      <td>219.71</td>\n",
       "      <td>-1.00</td>\n",
       "      <td>-1.00</td>\n",
       "      <td>-1.00</td>\n",
       "      <td>-1000.0</td>\n",
       "      <td>-1000.00</td>\n",
       "      <td>-1000.00</td>\n",
       "      <td>-10.00</td>\n",
       "    </tr>\n",
       "  </tbody>\n",
       "</table>\n",
       "</div>"
      ],
      "text/plain": [
       "         0    1   2      3       4       5       6       7     8     9     10  \\\n",
       "0       Car  0.0   0   1.55  614.24  181.78  727.31  284.77  1.57  1.73  4.15   \n",
       "1  DontCare -1.0  -1 -10.00    5.00  229.89  214.12  367.61 -1.00 -1.00 -1.00   \n",
       "2  DontCare -1.0  -1 -10.00  522.25  202.35  547.77  219.71 -1.00 -1.00 -1.00   \n",
       "\n",
       "       11       12       13     14  \n",
       "0     1.0     1.75    13.22   1.62  \n",
       "1 -1000.0 -1000.00 -1000.00 -10.00  \n",
       "2 -1000.0 -1000.00 -1000.00 -10.00  "
      ]
     },
     "execution_count": 51,
     "metadata": {},
     "output_type": "execute_result"
    }
   ],
   "source": [
    "import pandas\n",
    "pandas.read_table('/ufrc/ewhite/b.weinstein/voxelnet_split/training/label_2/000003.txt',header=None,sep=\" \")"
   ]
  },
  {
   "cell_type": "markdown",
   "metadata": {},
   "source": [
    "# Lidar Cloud"
   ]
  },
  {
   "cell_type": "markdown",
   "metadata": {},
   "source": [
    "The lidar cloud is saved in binary format and read into voxelnet \n",
    "\n",
    "```\n",
    "raw_lidar = np.fromfile(self.f_lidar[load_index], dtype=np.float32).reshape((-1, 4))\n",
    "```"
   ]
  },
  {
   "cell_type": "code",
   "execution_count": 15,
   "metadata": {
    "collapsed": false
   },
   "outputs": [
    {
     "name": "stdout",
     "output_type": "stream",
     "text": [
      "CPU times: user 435 µs, sys: 440 µs, total: 875 µs\n",
      "Wall time: 1.29 ms\n"
     ]
    }
   ],
   "source": [
    "import numpy as np\n",
    "%time pc=np.fromfile(\"/ufrc/ewhite/b.weinstein/voxelnet_split/training/velodyne/000003.bin\",dtype=np.float32)"
   ]
  },
  {
   "cell_type": "code",
   "execution_count": 16,
   "metadata": {
    "collapsed": false
   },
   "outputs": [
    {
     "data": {
      "text/plain": [
       "(452440,)"
      ]
     },
     "execution_count": 16,
     "metadata": {},
     "output_type": "execute_result"
    }
   ],
   "source": [
    "pc.shape"
   ]
  },
  {
   "cell_type": "markdown",
   "metadata": {},
   "source": [
    "Reshape into a 4xN matrix from the read me \"Here, data contains 4*num values, where the first 3 values correspond to\n",
    "x,y and z, and the last value is the reflectance information.\""
   ]
  },
  {
   "cell_type": "code",
   "execution_count": 18,
   "metadata": {
    "collapsed": false
   },
   "outputs": [
    {
     "data": {
      "text/plain": [
       "array([[ 68.1269989 ,   0.145     ,   2.51300001,   0.        ],\n",
       "       [ 68.73999786,   0.36199999,   2.53399992,   0.        ],\n",
       "       [ 69.38999939,   0.58399999,   2.55599999,   0.        ],\n",
       "       ..., \n",
       "       [  3.74000001,  -1.40799999,  -1.74800003,   0.44999999],\n",
       "       [  3.74000001,  -1.39400005,  -1.745     ,   0.        ],\n",
       "       [  3.76300001,  -1.38999999,  -1.75399995,   0.        ]], dtype=float32)"
      ]
     },
     "execution_count": 18,
     "metadata": {},
     "output_type": "execute_result"
    }
   ],
   "source": [
    "pc.reshape(-1,4)"
   ]
  },
  {
   "cell_type": "markdown",
   "metadata": {},
   "source": [
    "---"
   ]
  },
  {
   "cell_type": "markdown",
   "metadata": {},
   "source": [
    "Okay that's what we are working with, how does it get fed into the model?"
   ]
  },
  {
   "cell_type": "markdown",
   "metadata": {},
   "source": [
    "The essential [function](https://github.com/bw4sz/voxelnet/blob/44e429b92246d2f253fa9cd1af13cb420293abfc/train.py#L101) in train.py appears to be \"iterate_data\" from kitti_loader"
   ]
  },
  {
   "cell_type": "code",
   "execution_count": 1,
   "metadata": {
    "collapsed": true
   },
   "outputs": [],
   "source": [
    "from utils.kitti_loader import iterate_data"
   ]
  },
  {
   "cell_type": "code",
   "execution_count": 2,
   "metadata": {
    "collapsed": true
   },
   "outputs": [],
   "source": [
    "data_dir=\"/ufrc/ewhite/b.weinstein/voxelnet_split/training\""
   ]
  },
  {
   "cell_type": "markdown",
   "metadata": {},
   "source": [
    "Let's see what this method yields"
   ]
  },
  {
   "cell_type": "code",
   "execution_count": 6,
   "metadata": {
    "collapsed": true
   },
   "outputs": [],
   "source": [
    "grab_data=iterate_data(data_dir)"
   ]
  },
  {
   "cell_type": "code",
   "execution_count": 9,
   "metadata": {
    "collapsed": false
   },
   "outputs": [
    {
     "data": {
      "text/plain": [
       "(array(['000000'], dtype='<U6'),\n",
       " array([['Pedestrian 0.00 0 -0.20 712.40 143.00 810.73 307.92 1.89 0.48 1.20 1.84 1.47 8.41 0.01\\n']],\n",
       "       dtype='<U87'),\n",
       " array([[[[ 3.8050001e+00, -7.0460000e+00, -2.7539999e+00, ...,\n",
       "           -9.0000629e-03, -9.9997520e-03, -1.4998913e-03],\n",
       "          [ 3.8230000e+00, -7.0260000e+00, -2.7509999e+00, ...,\n",
       "            8.9998245e-03,  1.0000229e-02,  1.5001297e-03],\n",
       "          [ 0.0000000e+00,  0.0000000e+00,  0.0000000e+00, ...,\n",
       "           -3.8140001e+00,  7.0360003e+00,  2.7525001e+00],\n",
       "          ...,\n",
       "          [ 0.0000000e+00,  0.0000000e+00,  0.0000000e+00, ...,\n",
       "           -3.8140001e+00,  7.0360003e+00,  2.7525001e+00],\n",
       "          [ 0.0000000e+00,  0.0000000e+00,  0.0000000e+00, ...,\n",
       "           -3.8140001e+00,  7.0360003e+00,  2.7525001e+00],\n",
       "          [ 0.0000000e+00,  0.0000000e+00,  0.0000000e+00, ...,\n",
       "           -3.8140001e+00,  7.0360003e+00,  2.7525001e+00]],\n",
       " \n",
       "         [[ 4.1199999e+00, -7.0539999e+00, -2.6610000e+00, ...,\n",
       "           -3.7000082e-02, -3.2599449e-02,  2.7199984e-02],\n",
       "          [ 4.1199999e+00, -7.0009999e+00, -2.6459999e+00, ...,\n",
       "           -3.7000082e-02,  2.0400524e-02,  4.2200089e-02],\n",
       "          [ 4.1659999e+00, -7.0050001e+00, -2.6550000e+00, ...,\n",
       "            8.9999195e-03,  1.6400337e-02,  3.3200026e-02],\n",
       "          ...,\n",
       "          [ 0.0000000e+00,  0.0000000e+00,  0.0000000e+00, ...,\n",
       "           -4.1570001e+00,  7.0214005e+00,  2.6882000e+00],\n",
       "          [ 0.0000000e+00,  0.0000000e+00,  0.0000000e+00, ...,\n",
       "           -4.1570001e+00,  7.0214005e+00,  2.6882000e+00],\n",
       "          [ 0.0000000e+00,  0.0000000e+00,  0.0000000e+00, ...,\n",
       "           -4.1570001e+00,  7.0214005e+00,  2.6882000e+00]],\n",
       " \n",
       "         [[ 4.2309999e+00, -7.0139999e+00, -2.6689999e+00, ...,\n",
       "           -6.3555717e-02,  1.6444735e-02,  1.1744443e-01],\n",
       "          [ 4.2700000e+00, -7.0279999e+00, -2.6800001e+00, ...,\n",
       "           -2.4555683e-02,  2.4447972e-03,  1.0644428e-01],\n",
       "          [ 4.3920002e+00, -7.0289998e+00, -2.7019999e+00, ...,\n",
       "            9.7444534e-02,  1.4448696e-03,  8.4444441e-02],\n",
       "          ...,\n",
       "          [ 0.0000000e+00,  0.0000000e+00,  0.0000000e+00, ...,\n",
       "           -4.2945557e+00,  7.0304446e+00,  2.7864444e+00],\n",
       "          [ 0.0000000e+00,  0.0000000e+00,  0.0000000e+00, ...,\n",
       "           -4.2945557e+00,  7.0304446e+00,  2.7864444e+00],\n",
       "          [ 0.0000000e+00,  0.0000000e+00,  0.0000000e+00, ...,\n",
       "           -4.2945557e+00,  7.0304446e+00,  2.7864444e+00]],\n",
       " \n",
       "         ...,\n",
       " \n",
       "         [[ 5.6910000e+00,  2.5638000e+01,  9.3000001e-01, ...,\n",
       "            0.0000000e+00,  0.0000000e+00,  0.0000000e+00],\n",
       "          [ 0.0000000e+00,  0.0000000e+00,  0.0000000e+00, ...,\n",
       "           -5.6910000e+00, -2.5638000e+01, -9.3000001e-01],\n",
       "          [ 0.0000000e+00,  0.0000000e+00,  0.0000000e+00, ...,\n",
       "           -5.6910000e+00, -2.5638000e+01, -9.3000001e-01],\n",
       "          ...,\n",
       "          [ 0.0000000e+00,  0.0000000e+00,  0.0000000e+00, ...,\n",
       "           -5.6910000e+00, -2.5638000e+01, -9.3000001e-01],\n",
       "          [ 0.0000000e+00,  0.0000000e+00,  0.0000000e+00, ...,\n",
       "           -5.6910000e+00, -2.5638000e+01, -9.3000001e-01],\n",
       "          [ 0.0000000e+00,  0.0000000e+00,  0.0000000e+00, ...,\n",
       "           -5.6910000e+00, -2.5638000e+01, -9.3000001e-01]],\n",
       " \n",
       "         [[ 4.7090001e+00,  2.6274000e+01,  6.1400002e-01, ...,\n",
       "            0.0000000e+00,  0.0000000e+00,  0.0000000e+00],\n",
       "          [ 0.0000000e+00,  0.0000000e+00,  0.0000000e+00, ...,\n",
       "           -4.7090001e+00, -2.6274000e+01, -6.1400002e-01],\n",
       "          [ 0.0000000e+00,  0.0000000e+00,  0.0000000e+00, ...,\n",
       "           -4.7090001e+00, -2.6274000e+01, -6.1400002e-01],\n",
       "          ...,\n",
       "          [ 0.0000000e+00,  0.0000000e+00,  0.0000000e+00, ...,\n",
       "           -4.7090001e+00, -2.6274000e+01, -6.1400002e-01],\n",
       "          [ 0.0000000e+00,  0.0000000e+00,  0.0000000e+00, ...,\n",
       "           -4.7090001e+00, -2.6274000e+01, -6.1400002e-01],\n",
       "          [ 0.0000000e+00,  0.0000000e+00,  0.0000000e+00, ...,\n",
       "           -4.7090001e+00, -2.6274000e+01, -6.1400002e-01]],\n",
       " \n",
       "         [[ 5.6750002e+00,  2.6993999e+01,  6.2699997e-01, ...,\n",
       "            0.0000000e+00,  0.0000000e+00,  0.0000000e+00],\n",
       "          [ 0.0000000e+00,  0.0000000e+00,  0.0000000e+00, ...,\n",
       "           -5.6750002e+00, -2.6993999e+01, -6.2699997e-01],\n",
       "          [ 0.0000000e+00,  0.0000000e+00,  0.0000000e+00, ...,\n",
       "           -5.6750002e+00, -2.6993999e+01, -6.2699997e-01],\n",
       "          ...,\n",
       "          [ 0.0000000e+00,  0.0000000e+00,  0.0000000e+00, ...,\n",
       "           -5.6750002e+00, -2.6993999e+01, -6.2699997e-01],\n",
       "          [ 0.0000000e+00,  0.0000000e+00,  0.0000000e+00, ...,\n",
       "           -5.6750002e+00, -2.6993999e+01, -6.2699997e-01],\n",
       "          [ 0.0000000e+00,  0.0000000e+00,  0.0000000e+00, ...,\n",
       "           -5.6750002e+00, -2.6993999e+01, -6.2699997e-01]]]],\n",
       "       dtype=float32),\n",
       " array([[2, 5, 9, ..., 1, 1, 1]]),\n",
       " array([[[  0,   0, 164,  19],\n",
       "         [  0,   0, 164,  20],\n",
       "         [  0,   0, 164,  21],\n",
       "         ...,\n",
       "         [  0,   9, 328,  28],\n",
       "         [  0,   9, 331,  23],\n",
       "         [  0,   9, 334,  28]]]),\n",
       " array([[[[18, 22, 17],\n",
       "          [28, 24, 16],\n",
       "          [33, 29, 25],\n",
       "          ...,\n",
       "          [23, 29, 37],\n",
       "          [21, 24, 35],\n",
       "          [15, 17, 36]],\n",
       " \n",
       "         [[16, 19, 17],\n",
       "          [20, 23, 14],\n",
       "          [24, 28, 23],\n",
       "          ...,\n",
       "          [25, 29, 37],\n",
       "          [21, 25, 35],\n",
       "          [14, 18, 35]],\n",
       " \n",
       "         [[16, 16, 17],\n",
       "          [19, 16, 18],\n",
       "          [21, 21, 18],\n",
       "          ...,\n",
       "          [27, 29, 34],\n",
       "          [22, 23, 32],\n",
       "          [14, 17, 30]],\n",
       " \n",
       "         ...,\n",
       " \n",
       "         [[28, 23, 19],\n",
       "          [28, 22, 17],\n",
       "          [28, 22, 16],\n",
       "          ...,\n",
       "          [32, 25, 24],\n",
       "          [32, 26, 20],\n",
       "          [31, 27, 20]],\n",
       " \n",
       "         [[28, 21, 12],\n",
       "          [25, 19, 12],\n",
       "          [24, 18, 14],\n",
       "          ...,\n",
       "          [33, 25, 20],\n",
       "          [32, 25, 21],\n",
       "          [30, 27, 21]],\n",
       " \n",
       "         [[23, 20, 13],\n",
       "          [18, 18, 14],\n",
       "          [19, 17, 14],\n",
       "          ...,\n",
       "          [37, 30, 22],\n",
       "          [38, 29, 22],\n",
       "          [35, 30, 20]]]], dtype=uint8),\n",
       " array([[[ 1.8324e+01,  4.9000e-02,  8.2900e-01,  0.0000e+00],\n",
       "         [ 1.8344e+01,  1.0600e-01,  8.2900e-01,  0.0000e+00],\n",
       "         [ 5.1299e+01,  5.0500e-01,  1.9440e+00,  0.0000e+00],\n",
       "         ...,\n",
       "         [ 3.7180e+00, -1.4060e+00, -1.7370e+00,  3.4000e-01],\n",
       "         [ 3.7140e+00, -1.3910e+00, -1.7330e+00,  4.1000e-01],\n",
       "         [ 3.9670e+00, -1.4740e+00, -1.8570e+00,  0.0000e+00]]],\n",
       "       dtype=float32))"
      ]
     },
     "execution_count": 9,
     "metadata": {},
     "output_type": "execute_result"
    }
   ],
   "source": [
    "next(grab_data)"
   ]
  },
  {
   "cell_type": "code",
   "execution_count": 10,
   "metadata": {
    "collapsed": true
   },
   "outputs": [],
   "source": [
    "sample=next(grab_data)"
   ]
  },
  {
   "cell_type": "markdown",
   "metadata": {},
   "source": [
    "So what's in this sample? Looking at the [source](https://github.com/bw4sz/voxelnet/blob/44e429b92246d2f253fa9cd1af13cb420293abfc/utils/kitti_loader.py#L146), we can get a pretty good guess.\n",
    "\n",
    "# 0: \"Tag\" - this is the identifier of the data that acts an index across lidar, label and image sets. \n",
    "\n",
    "In the Kitti dataset, these are 6 digit numbers, starting at 000000."
   ]
  },
  {
   "cell_type": "code",
   "execution_count": 13,
   "metadata": {
    "collapsed": false
   },
   "outputs": [
    {
     "data": {
      "text/plain": [
       "array(['000003'], dtype='<U6')"
      ]
     },
     "execution_count": 13,
     "metadata": {},
     "output_type": "execute_result"
    }
   ],
   "source": [
    "sample[0]"
   ]
  },
  {
   "cell_type": "markdown",
   "metadata": {},
   "source": [
    "# 1: \"label\" this is class label. \n",
    "\n",
    "The Don't Care label was introduced in preprocessing for this particular dataset."
   ]
  },
  {
   "cell_type": "code",
   "execution_count": 15,
   "metadata": {
    "collapsed": false
   },
   "outputs": [
    {
     "data": {
      "text/plain": [
       "array([['Car 0.00 0 1.55 614.24 181.78 727.31 284.77 1.57 1.73 4.15 1.00 1.75 13.22 1.62\\n',\n",
       "        'DontCare -1 -1 -10 5.00 229.89 214.12 367.61 -1 -1 -1 -1000 -1000 -1000 -10\\n',\n",
       "        'DontCare -1 -1 -10 522.25 202.35 547.77 219.71 -1 -1 -1 -1000 -1000 -1000 -10\\n']],\n",
       "      dtype='<U80')"
      ]
     },
     "execution_count": 15,
     "metadata": {},
     "output_type": "execute_result"
    }
   ],
   "source": [
    "sample[1]"
   ]
  },
  {
   "cell_type": "markdown",
   "metadata": {},
   "source": [
    "# 2: \"vox_feature\"\n",
    "no idea yet how could features already been extracted, this is the raw data?"
   ]
  },
  {
   "cell_type": "code",
   "execution_count": 16,
   "metadata": {
    "collapsed": false
   },
   "outputs": [
    {
     "data": {
      "text/plain": [
       "array([[[[ 6.5392998e+01, -1.0480000e+00, -2.7049999e+00, ...,\n",
       "           0.0000000e+00,  0.0000000e+00,  0.0000000e+00],\n",
       "         [ 0.0000000e+00,  0.0000000e+00,  0.0000000e+00, ...,\n",
       "          -6.5392998e+01,  1.0480000e+00,  2.7049999e+00],\n",
       "         [ 0.0000000e+00,  0.0000000e+00,  0.0000000e+00, ...,\n",
       "          -6.5392998e+01,  1.0480000e+00,  2.7049999e+00],\n",
       "         ...,\n",
       "         [ 0.0000000e+00,  0.0000000e+00,  0.0000000e+00, ...,\n",
       "          -6.5392998e+01,  1.0480000e+00,  2.7049999e+00],\n",
       "         [ 0.0000000e+00,  0.0000000e+00,  0.0000000e+00, ...,\n",
       "          -6.5392998e+01,  1.0480000e+00,  2.7049999e+00],\n",
       "         [ 0.0000000e+00,  0.0000000e+00,  0.0000000e+00, ...,\n",
       "          -6.5392998e+01,  1.0480000e+00,  2.7049999e+00]],\n",
       "\n",
       "        [[ 6.5897003e+01, -8.4899998e-01, -2.7279999e+00, ...,\n",
       "           0.0000000e+00,  0.0000000e+00,  0.0000000e+00],\n",
       "         [ 0.0000000e+00,  0.0000000e+00,  0.0000000e+00, ...,\n",
       "          -6.5897003e+01,  8.4899998e-01,  2.7279999e+00],\n",
       "         [ 0.0000000e+00,  0.0000000e+00,  0.0000000e+00, ...,\n",
       "          -6.5897003e+01,  8.4899998e-01,  2.7279999e+00],\n",
       "         ...,\n",
       "         [ 0.0000000e+00,  0.0000000e+00,  0.0000000e+00, ...,\n",
       "          -6.5897003e+01,  8.4899998e-01,  2.7279999e+00],\n",
       "         [ 0.0000000e+00,  0.0000000e+00,  0.0000000e+00, ...,\n",
       "          -6.5897003e+01,  8.4899998e-01,  2.7279999e+00],\n",
       "         [ 0.0000000e+00,  0.0000000e+00,  0.0000000e+00, ...,\n",
       "          -6.5897003e+01,  8.4899998e-01,  2.7279999e+00]],\n",
       "\n",
       "        [[ 6.6483002e+01, -6.4800000e-01, -2.7530000e+00, ...,\n",
       "           0.0000000e+00,  0.0000000e+00,  0.0000000e+00],\n",
       "         [ 0.0000000e+00,  0.0000000e+00,  0.0000000e+00, ...,\n",
       "          -6.6483002e+01,  6.4800000e-01,  2.7530000e+00],\n",
       "         [ 0.0000000e+00,  0.0000000e+00,  0.0000000e+00, ...,\n",
       "          -6.6483002e+01,  6.4800000e-01,  2.7530000e+00],\n",
       "         ...,\n",
       "         [ 0.0000000e+00,  0.0000000e+00,  0.0000000e+00, ...,\n",
       "          -6.6483002e+01,  6.4800000e-01,  2.7530000e+00],\n",
       "         [ 0.0000000e+00,  0.0000000e+00,  0.0000000e+00, ...,\n",
       "          -6.6483002e+01,  6.4800000e-01,  2.7530000e+00],\n",
       "         [ 0.0000000e+00,  0.0000000e+00,  0.0000000e+00, ...,\n",
       "          -6.6483002e+01,  6.4800000e-01,  2.7530000e+00]],\n",
       "\n",
       "        ...,\n",
       "\n",
       "        [[ 5.7849998e+00,  1.1500000e+01,  6.4399999e-01, ...,\n",
       "           9.6749783e-02,  1.7499924e-03,  1.2499690e-03],\n",
       "         [ 5.7020001e+00,  1.1515000e+01,  6.4399999e-01, ...,\n",
       "           1.3750076e-02,  1.6750336e-02,  1.2499690e-03],\n",
       "         [ 5.6490002e+00,  1.1498000e+01,  6.4200002e-01, ...,\n",
       "          -3.9249897e-02, -2.4986267e-04, -7.5000525e-04],\n",
       "         ...,\n",
       "         [ 0.0000000e+00,  0.0000000e+00,  0.0000000e+00, ...,\n",
       "          -5.6882501e+00, -1.1498250e+01, -6.4275002e-01],\n",
       "         [ 0.0000000e+00,  0.0000000e+00,  0.0000000e+00, ...,\n",
       "          -5.6882501e+00, -1.1498250e+01, -6.4275002e-01],\n",
       "         [ 0.0000000e+00,  0.0000000e+00,  0.0000000e+00, ...,\n",
       "          -5.6882501e+00, -1.1498250e+01, -6.4275002e-01]],\n",
       "\n",
       "        [[ 5.8690000e+00,  1.1489000e+01,  6.4499998e-01, ...,\n",
       "           1.6499996e-02, -1.1499405e-02, -5.0002337e-04],\n",
       "         [ 5.8360000e+00,  1.1512000e+01,  6.4600003e-01, ...,\n",
       "          -1.6499996e-02,  1.1500359e-02,  5.0002337e-04],\n",
       "         [ 0.0000000e+00,  0.0000000e+00,  0.0000000e+00, ...,\n",
       "          -5.8525000e+00, -1.1500500e+01, -6.4550000e-01],\n",
       "         ...,\n",
       "         [ 0.0000000e+00,  0.0000000e+00,  0.0000000e+00, ...,\n",
       "          -5.8525000e+00, -1.1500500e+01, -6.4550000e-01],\n",
       "         [ 0.0000000e+00,  0.0000000e+00,  0.0000000e+00, ...,\n",
       "          -5.8525000e+00, -1.1500500e+01, -6.4550000e-01],\n",
       "         [ 0.0000000e+00,  0.0000000e+00,  0.0000000e+00, ...,\n",
       "          -5.8525000e+00, -1.1500500e+01, -6.4550000e-01]],\n",
       "\n",
       "        [[ 5.5300002e+00,  1.1671000e+01,  6.4600003e-01, ...,\n",
       "           0.0000000e+00,  0.0000000e+00,  0.0000000e+00],\n",
       "         [ 0.0000000e+00,  0.0000000e+00,  0.0000000e+00, ...,\n",
       "          -5.5300002e+00, -1.1671000e+01, -6.4600003e-01],\n",
       "         [ 0.0000000e+00,  0.0000000e+00,  0.0000000e+00, ...,\n",
       "          -5.5300002e+00, -1.1671000e+01, -6.4600003e-01],\n",
       "         ...,\n",
       "         [ 0.0000000e+00,  0.0000000e+00,  0.0000000e+00, ...,\n",
       "          -5.5300002e+00, -1.1671000e+01, -6.4600003e-01],\n",
       "         [ 0.0000000e+00,  0.0000000e+00,  0.0000000e+00, ...,\n",
       "          -5.5300002e+00, -1.1671000e+01, -6.4600003e-01],\n",
       "         [ 0.0000000e+00,  0.0000000e+00,  0.0000000e+00, ...,\n",
       "          -5.5300002e+00, -1.1671000e+01, -6.4600003e-01]]]],\n",
       "      dtype=float32)"
      ]
     },
     "execution_count": 16,
     "metadata": {},
     "output_type": "execute_result"
    }
   ],
   "source": [
    "sample[2]"
   ]
  },
  {
   "cell_type": "markdown",
   "metadata": {},
   "source": [
    "# 3: Vox Number. \n",
    "\n",
    "The index of the voxel?"
   ]
  },
  {
   "cell_type": "code",
   "execution_count": 19,
   "metadata": {
    "collapsed": false
   },
   "outputs": [
    {
     "data": {
      "text/plain": [
       "array([[1, 1, 1, ..., 4, 2, 1]])"
      ]
     },
     "execution_count": 19,
     "metadata": {},
     "output_type": "execute_result"
    }
   ],
   "source": [
    "sample[3]"
   ]
  },
  {
   "cell_type": "markdown",
   "metadata": {},
   "source": [
    "# 4: vox_coordinate.\n",
    "The position of the voxel"
   ]
  },
  {
   "cell_type": "code",
   "execution_count": 22,
   "metadata": {
    "collapsed": false
   },
   "outputs": [
    {
     "data": {
      "text/plain": [
       "array([[[  0,   0, 194, 326],\n",
       "        [  0,   0, 195, 329],\n",
       "        [  0,   0, 196, 332],\n",
       "        ...,\n",
       "        [  0,   9, 257,  28],\n",
       "        [  0,   9, 257,  29],\n",
       "        [  0,   9, 258,  27]]])"
      ]
     },
     "execution_count": 22,
     "metadata": {},
     "output_type": "execute_result"
    }
   ],
   "source": [
    "sample[4]"
   ]
  },
  {
   "cell_type": "markdown",
   "metadata": {},
   "source": [
    "# 5: The rgb image\n",
    "let's see if we can load it "
   ]
  },
  {
   "cell_type": "code",
   "execution_count": 36,
   "metadata": {
    "collapsed": true
   },
   "outputs": [],
   "source": [
    "img=sample[5][0,:,:,:]"
   ]
  },
  {
   "cell_type": "code",
   "execution_count": 38,
   "metadata": {
    "collapsed": false
   },
   "outputs": [
    {
     "data": {
      "image/png": "[encoded data removed]",
      "text/plain": [
       "<Figure size 432x288 with 1 Axes>"
      ]
     },
     "metadata": {},
     "output_type": "display_data"
    }
   ],
   "source": [
    "from matplotlib import pyplot as plt\n",
    "import cv2\n",
    "\n",
    "plt.imshow(img)\n",
    "plt.title('rgb')\n",
    "plt.show()"
   ]
  },
  {
   "cell_type": "markdown",
   "metadata": {},
   "source": [
    "# 6: raw lidar\n",
    "\n",
    "The lidar cloud"
   ]
  },
  {
   "cell_type": "code",
   "execution_count": 40,
   "metadata": {
    "collapsed": false
   },
   "outputs": [
    {
     "data": {
      "text/plain": [
       "array([[[68.127,  0.145,  2.513,  0.   ],\n",
       "        [68.74 ,  0.362,  2.534,  0.   ],\n",
       "        [69.39 ,  0.584,  2.556,  0.   ],\n",
       "        ...,\n",
       "        [ 3.74 , -1.408, -1.748,  0.45 ],\n",
       "        [ 3.74 , -1.394, -1.745,  0.   ],\n",
       "        [ 3.763, -1.39 , -1.754,  0.   ]]], dtype=float32)"
      ]
     },
     "execution_count": 40,
     "metadata": {},
     "output_type": "execute_result"
    }
   ],
   "source": [
    "sample[6]"
   ]
  },
  {
   "cell_type": "code",
   "execution_count": 41,
   "metadata": {
    "collapsed": false
   },
   "outputs": [
    {
     "data": {
      "text/plain": [
       "(1, 113110, 4)"
      ]
     },
     "execution_count": 41,
     "metadata": {},
     "output_type": "execute_result"
    }
   ],
   "source": [
    "sample[6].shape"
   ]
  },
  {
   "cell_type": "code",
   "execution_count": null,
   "metadata": {
    "collapsed": true
   },
   "outputs": [],
   "source": []
  }
 ],
 "metadata": {
  "kernelspec": {
   "display_name": "Python 2",
   "language": "python",
   "name": "python2"
  },
  "language_info": {
   "codemirror_mode": {
    "name": "ipython",
    "version": 2
   },
   "file_extension": ".py",
   "mimetype": "text/x-python",
   "name": "python",
   "nbconvert_exporter": "python",
   "pygments_lexer": "ipython2",
   "version": "2.7.6"
  }
 },
 "nbformat": 4,
 "nbformat_minor": 1
}
